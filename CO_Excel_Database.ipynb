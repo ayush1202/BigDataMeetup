{
 "cells": [
  {
   "cell_type": "code",
   "execution_count": 2,
   "metadata": {
    "collapsed": true
   },
   "outputs": [],
   "source": [
    "#Create a database if the data is in the form of an .xlsx (Excel) file\n",
    "import sqlite3\n",
    "import pandas as pd\n",
    "#Name of xlsx file. SQLite database will have the same name and extension .db\n",
    "#Change the path to the production file"
   ]
  },
  {
   "cell_type": "code",
   "execution_count": 3,
   "metadata": {
    "collapsed": false
   },
   "outputs": [],
   "source": [
    "filename=r\"C:\\Users\\ayushrastogi\\OneDrive\\ML DS Big Data\\Meetup\\Big Data Meetup\\CO Production Data\\excel\\colorado\"\n",
    "con=sqlite3.connect(filename+\"database.db\")"
   ]
  },
  {
   "cell_type": "code",
   "execution_count": 3,
   "metadata": {
    "collapsed": false
   },
   "outputs": [
    {
     "name": "stderr",
     "output_type": "stream",
     "text": [
      "C:\\Users\\ayushrastogi\\AppData\\Local\\Continuum\\Anaconda3\\lib\\site-packages\\pandas\\core\\generic.py:1201: UserWarning: The spaces in these column names will not be changed. In pandas versions < 0.14, spaces were converted to underscores.\n",
      "  chunksize=chunksize, dtype=dtype)\n"
     ]
    }
   ],
   "source": [
    "#DO NOT Run if the database already exists\n",
    "\n",
    "#Using pandas to read the excel and function 'to_sql' to export the data\n",
    "wb=pd.read_excel(filename+'.xlsx',sheetname=None)\n",
    "for sheet in wb:\n",
    "    wb[sheet].to_sql(sheet,con, index=False)\n",
    "con.commit() #Committing the change\n",
    "con.close() #Close the connection"
   ]
  },
  {
   "cell_type": "code",
   "execution_count": 4,
   "metadata": {
    "collapsed": false
   },
   "outputs": [],
   "source": [
    "import matplotlib.pyplot as plt\n",
    "from os.path import isfile, join  \n",
    "import numpy as np \n",
    "plt.style.use('ggplot')    \n",
    "\n",
    "conn = sqlite3.connect('C:/Users/ayushrastogi/OneDrive/ML DS Big Data/Meetup/Big Data Meetup/CO Production Data/excel/coloradodatabase.db')\n",
    "cur = conn.cursor()"
   ]
  },
  {
   "cell_type": "code",
   "execution_count": 24,
   "metadata": {
    "collapsed": false
   },
   "outputs": [
    {
     "name": "stdout",
     "output_type": "stream",
     "text": [
      "Index(['API/UWI', 'Operator Alias', 'Well/Lease Name', 'Well Number',\n",
      "       'Entity Type', 'County/Parish', 'Reservoir', 'Production Type',\n",
      "       'Producing Status', 'Drill Type',\n",
      "       ...\n",
      "       'Survey', 'OCS Area', 'PGC Area', 'Surface Latitude (WGS84)',\n",
      "       'Surface Longitude (WGS84)', 'Reported Operator', 'Last 12 Oil',\n",
      "       'Last 12 Gas', 'Last 12 Water', 'Entity ID'],\n",
      "      dtype='object', length=104)\n",
      "(126963, 104)\n"
     ]
    }
   ],
   "source": [
    "# Entire Codell Data\n",
    "data = pd.read_sql_query(''' SELECT *\n",
    "                             FROM ProductiontableCO \n",
    "                             ''', conn)\n",
    "\n",
    "print(data.columns)\n",
    "print(data.shape)"
   ]
  },
  {
   "cell_type": "code",
   "execution_count": 43,
   "metadata": {
    "collapsed": false
   },
   "outputs": [
    {
     "name": "stdout",
     "output_type": "stream",
     "text": [
      "         API/UWI                  Operator Alias        Well/Lease Name  \\\n",
      "0  5069061710000           MAGPIE OPERATING, INC               HAMILTON   \n",
      "1  5123104720000  ANADARKO PETROLEUM CORPORATION                  REEVE   \n",
      "2  5123105280000  ANADARKO PETROLEUM CORPORATION                 ASBURY   \n",
      "3  5123105340000              NOBLE ENERGY, INC.                 WATSON   \n",
      "4  5123111010000              NOBLE ENERGY, INC.                HOSHIKO   \n",
      "5  5123111040000           MONAHAN GAS & OIL INC                KNISTER   \n",
      "6  5123111070000              HS RESOURCES, INC.  UPRR 22 PAN AM P-TRUE   \n",
      "7  5123111110000                      PDC ENERGY             KILLEYBEGS   \n",
      "8  5123111610000  ANADARKO PETROLEUM CORPORATION           VICTOR USX W   \n",
      "9  5123111650000                  SRC ENERGY INC                ENGLISH   \n",
      "\n",
      "           Well Number Entity Type County/Parish Reservoir Production Type  \\\n",
      "0                    1        WELL  LARIMER (CO)    CODELL             GAS   \n",
      "1             41-15 #1        WELL     WELD (CO)    CODELL             OIL   \n",
      "2                    1        WELL     WELD (CO)    CODELL             GAS   \n",
      "3  2018-11-28 00:00:00        WELL     WELD (CO)    CODELL             OIL   \n",
      "4                    2        WELL     WELD (CO)    CODELL             OIL   \n",
      "5                    1        WELL     WELD (CO)    CODELL             GAS   \n",
      "6                    1        WELL     WELD (CO)    CODELL             GAS   \n",
      "7                    1        WELL     WELD (CO)    CODELL             OIL   \n",
      "8                 23-4        WELL     WELD (CO)    CODELL             OIL   \n",
      "9                31-20        WELL     WELD (CO)    CODELL             OIL   \n",
      "\n",
      "  Producing Status Drill Type    ...     Survey OCS Area  PGC Area  \\\n",
      "0         INACTIVE          U    ...       None    (N/A)     P-535   \n",
      "1               SI          V    ...       None    (N/A)     P-535   \n",
      "2               PA          U    ...       None    (N/A)     P-535   \n",
      "3               PA          U    ...       None    (N/A)     P-535   \n",
      "4               SI          U    ...       None    (N/A)     P-535   \n",
      "5         INACTIVE          U    ...       None    (N/A)     P-535   \n",
      "6         INACTIVE          U    ...       None    (N/A)     P-535   \n",
      "7               SI          U    ...       None    (N/A)     P-535   \n",
      "8           ACTIVE          U    ...       None    (N/A)     P-535   \n",
      "9               SI          U    ...       None    (N/A)     P-535   \n",
      "\n",
      "   Surface Latitude (WGS84)  Surface Longitude (WGS84)  \\\n",
      "0                 40.360894                -104.977584   \n",
      "1                 40.317953                -104.641983   \n",
      "2                 40.172630                -104.883370   \n",
      "3                 40.463340                -104.675620   \n",
      "4                 40.350430                -104.514300   \n",
      "5                 40.365046                -104.805876   \n",
      "6                 40.177170                -104.738670   \n",
      "7                 40.278690                -104.458220   \n",
      "8                 40.128210                -104.750400   \n",
      "9                 40.480225                -104.801213   \n",
      "\n",
      "                 Reported Operator  Last 12 Oil  Last 12 Gas  Last 12 Water  \\\n",
      "0            MAGPIE OPERATING, INC         64.0       2009.0           37.0   \n",
      "1  KERR MCGEE OIL & GAS ONSHORE LP        228.0       1579.0           12.0   \n",
      "2  KERR MCGEE OIL & GAS ONSHORE LP         64.0       1850.0          118.0   \n",
      "3                 NOBLE ENERGY INC        188.0        308.0           16.0   \n",
      "4                 NOBLE ENERGY INC         46.0        700.0            NaN   \n",
      "5            MONAHAN GAS & OIL INC        205.0       4640.0           26.0   \n",
      "6                 HS RESOURCES INC        350.0      10418.0          186.0   \n",
      "7                           UNIOIL        152.0         32.0            NaN   \n",
      "8  KERR MCGEE OIL & GAS ONSHORE LP         43.0        535.0            4.0   \n",
      "9                   SRC ENERGY INC         52.0        587.0            2.0   \n",
      "\n",
      "   Entity ID  \n",
      "0  104198526  \n",
      "1  104204828  \n",
      "2  104204860  \n",
      "3  104204865  \n",
      "4  104205314  \n",
      "5  104205316  \n",
      "6  104205319  \n",
      "7  104205323  \n",
      "8  104205360  \n",
      "9  104205363  \n",
      "\n",
      "[10 rows x 104 columns]\n"
     ]
    },
    {
     "data": {
      "text/plain": [
       "pandas.core.frame.DataFrame"
      ]
     },
     "execution_count": 43,
     "metadata": {},
     "output_type": "execute_result"
    }
   ],
   "source": [
    "data_codell = pd.read_sql_query(''' SELECT *\n",
    "                                    FROM ProductiontableCO \n",
    "                                    WHERE Reservoir='CODELL'\n",
    "                                    LIMIT 10\n",
    "                                    ''', conn)\n",
    "print (data_codell)\n",
    "type(data_codell)"
   ]
  },
  {
   "cell_type": "code",
   "execution_count": 44,
   "metadata": {
    "collapsed": false
   },
   "outputs": [
    {
     "data": {
      "image/png": "[encoded data removed]",
      "text/plain": [
       "<matplotlib.figure.Figure at 0x28c768d0>"
      ]
     },
     "metadata": {},
     "output_type": "display_data"
    }
   ],
   "source": [
    "fig, ax = plt.subplots()\n",
    "axes = plt.gca()\n",
    "x = np.arange(len(data_codell['Field']))\n",
    "y = data_codell['Cum Oil'].values\n",
    "x_name = data_codell['Field']\n",
    "ax.get_yaxis().set_major_formatter(plt.FuncFormatter(lambda x, loc: \"{:,}\".format(int(x))))\n",
    "fig.subplots_adjust(top=0.85)\n",
    "ax.set_title('Plot 1: Fields in Codell Formation with highest Cum Oil', fontsize=14, fontweight='bold')\n",
    "ax.set_xlabel('Fields', fontsize = 12, fontweight='bold')\n",
    "ax.set_ylabel('Cum Oil', fontsize = 12, fontweight='bold')\n",
    "plt.grid = False\n",
    "plt.xticks(x, x_name, rotation=90)\n",
    "fig.set_size_inches(10, 10)\n",
    "ax.bar(x,y, align='center', alpha=0.5, color = 'b')\n",
    "plt.tight_layout()\n",
    "plt.show()"
   ]
  },
  {
   "cell_type": "code",
   "execution_count": null,
   "metadata": {
    "collapsed": true
   },
   "outputs": [],
   "source": []
  }
 ],
 "metadata": {
  "kernelspec": {
   "display_name": "Python 3",
   "language": "python",
   "name": "python3"
  },
  "language_info": {
   "codemirror_mode": {
    "name": "ipython",
    "version": 3
   },
   "file_extension": ".py",
   "mimetype": "text/x-python",
   "name": "python",
   "nbconvert_exporter": "python",
   "pygments_lexer": "ipython3",
   "version": "3.6.0"
  }
 },
 "nbformat": 4,
 "nbformat_minor": 2
}
