{
 "cells": [
  {
   "cell_type": "code",
   "execution_count": 1,
   "metadata": {
    "collapsed": true
   },
   "outputs": [],
   "source": [
    "import sqlite3\n",
    "import pandas"
   ]
  },
  {
   "cell_type": "code",
   "execution_count": 2,
   "metadata": {
    "collapsed": false
   },
   "outputs": [
    {
     "name": "stderr",
     "output_type": "stream",
     "text": [
      "C:\\Users\\ayushrastogi\\AppData\\Local\\Continuum\\Anaconda3\\lib\\site-packages\\IPython\\core\\interactiveshell.py:2717: DtypeWarning: Columns (89) have mixed types. Specify dtype option on import or set low_memory=False.\n",
      "  interactivity=interactivity, compiler=compiler, result=result)\n"
     ]
    }
   ],
   "source": [
    "#Store the data through pandas in a dataframe\n",
    "data=pandas.read_csv(r'C:/Users/ayushrastogi/OneDrive/ML DS Big Data/Meetup/Big Data Meetup/Wyoming Production Data/Production Table.csv')"
   ]
  },
  {
   "cell_type": "code",
   "execution_count": 3,
   "metadata": {
    "collapsed": true
   },
   "outputs": [],
   "source": [
    "#Creating the database\n",
    "connection = sqlite3.connect('C:/Users/ayushrastogi/OneDrive/ML DS Big Data/Meetup/Big Data Meetup/Wyoming Production Data/ProductiontableWY.db')\n",
    "cursor = connection.cursor()"
   ]
  },
  {
   "cell_type": "code",
   "execution_count": 4,
   "metadata": {
    "collapsed": true
   },
   "outputs": [],
   "source": [
    "#Create the table\n",
    "def create_table():\n",
    "    cursor.execute('DROP TABLE IF EXISTS ProductiontableWY')\n",
    "    cursor.execute('''CREATE TABLE ProductionTableWY(\n",
    "                   API INTEGER,\n",
    "                   OperatorAlias TEXT,\n",
    "                   LeaseName\tTEXT,\n",
    "                   WellNumber\tTEXT,\n",
    "                   EntityType\tTEXT,\n",
    "                   County TEXT,\n",
    "                   Reservoir\tTEXT,\n",
    "                   ProductionType\tTEXT,\n",
    "                   ProducingStatus\tTEXT,\n",
    "                   DrillType\tTEXT,\n",
    "                   FirstProdDate\tTIMESTAMP,\n",
    "                   LastProdDate\tTIMESTAMP,\n",
    "                   CumGas\tREAL,\n",
    "                   CumOil\tREAL,\n",
    "                   CumBOE\tREAL,\n",
    "                   CumWater\tREAL,\n",
    "                   CumMMCFGE\tREAL,\n",
    "                   CumBCFGE\tREAL,\n",
    "                   DailyGas\tREAL,\n",
    "                   DailyOil\tREAL,\n",
    "                   FirstMonthOil\tREAL,\n",
    "                   FirstMonthGas\tREAL,\n",
    "                   FirstMonthWater\tREAL,\n",
    "                   First6Oil\tREAL,\n",
    "                   First6Gas\tREAL,\n",
    "                   First6BOE\tREAL,\n",
    "                   First6Water\tREAL,\n",
    "                   First12Oil\tREAL,\n",
    "                   First12Gas\tREAL,\n",
    "                   First12BOE\tREAL,\n",
    "                   First12MMCFGE\tREAL,\n",
    "                   First12Water\tREAL,\n",
    "                   First24Oil\tREAL,\n",
    "                   First24Gas\tREAL,\n",
    "                   First24BOE\tREAL,\n",
    "                   First24MMCFGE\tREAL,\n",
    "                   First24Water\tREAL,\n",
    "                   First60Oil\tREAL,\n",
    "                   First60Gas\tREAL,\n",
    "                   First60BOE\tREAL,\n",
    "                   First60Water\tREAL,\n",
    "                   First60MMCFGE\tREAL,\n",
    "                   PracIPOilDaily\tREAL,\n",
    "                   PracIPGasDaily\tREAL,\n",
    "                   PracIPCFGED\t REAL,\n",
    "                   PracIPBOE\tREAL,\n",
    "                   LatestOil\tREAL,\n",
    "                   LatestGas\tREAL,\n",
    "                   LatestWater\tREAL,\n",
    "                   Prior12Oil\tREAL,\n",
    "                   Prior12Gas\tREAL,\n",
    "                   Prior12Water\tREAL,\n",
    "                   LastTestDate\tTIMESTAMP,\n",
    "                   LastFlowPressure\tREAL,\n",
    "                   LastWHSIP\tREAL,\n",
    "                   SecondMonthGOR\t REAL,\n",
    "                   LatestGOR\tREAL,\n",
    "                   CumGOR\tREAL,\n",
    "                   Last12Yield\t REAL,\n",
    "                   SecondMonthYield\tREAL,\n",
    "                   LatestYield\tREAL,\n",
    "                   PeakGas\tREAL,\n",
    "                   PeakGasMonthNo\tREAL,\n",
    "                   PeakOil\tREAL,\n",
    "                   PeakOilMonthNo\tREAL,\n",
    "                   PeakBOE\tREAL,\n",
    "                   PeakBOEMonthNo\tREAL,\n",
    "                   PeakMMCFGE\tREAL,\n",
    "                   PeakMMCFGEMonthNo\tREAL,\n",
    "                   UpperPerforation\tREAL,\n",
    "                   LowerPerforation\tREAL,\n",
    "                   GasGravity\tREAL,\n",
    "                   OilGravity\tREAL,\n",
    "                   CompletionDate\tTIMESTAMP,\n",
    "                   WellCount\tINTEGER,\n",
    "                   MaxActiveWells\tREAL,\n",
    "                   MonthsProduced\tREAL,\n",
    "                   GasGatherer\tTEXT,\n",
    "                   OilGatherer\tTEXT,\n",
    "                   LeaseNumber\tREAL,\n",
    "                   SpudDate\tTIMESTAMP,\n",
    "                   MeasuredDepthTD\tREAL,\n",
    "                   TrueVerticalDepth\tREAL,\n",
    "                   PerforatedIntervalLength\tREAL,\n",
    "                   Field\tTEXT,\n",
    "                   State\tTEXT,\n",
    "                   District\tTEXT,\n",
    "                   Basin\tTEXT,\n",
    "                   Country\tTEXT,\n",
    "                   Section\tINTEGER,\n",
    "                   Township\tTEXT,\n",
    "                   Range\tTEXT,\n",
    "                   Abstract\tREAL,\n",
    "                   Block\tREAL,\n",
    "                   Survey\tREAL,\n",
    "                   OCSArea\tTEXT,\n",
    "                   PGCArea TEXT,\n",
    "                   SurfaceLatitudeWGS84\tREAL,\n",
    "                   SurfaceLongitudeWGS84\tREAL,\n",
    "                   ReportedOperator\tTEXT,\n",
    "                   Last12Oil\tREAL,\n",
    "                   Last12Gas\tREAL,\n",
    "                   Last12Water \tREAL,\n",
    "                   EntityID\tINTEGER);\n",
    "                    ''')\n",
    "connection.commit()\n"
   ]
  },
  {
   "cell_type": "code",
   "execution_count": 5,
   "metadata": {
    "collapsed": false
   },
   "outputs": [
    {
     "name": "stderr",
     "output_type": "stream",
     "text": [
      "C:\\Users\\ayushrastogi\\AppData\\Local\\Continuum\\Anaconda3\\lib\\site-packages\\IPython\\core\\interactiveshell.py:2717: DtypeWarning: Columns (89) have mixed types. Specify dtype option on import or set low_memory=False.\n",
      "  interactivity=interactivity, compiler=compiler, result=result)\n",
      "C:\\Users\\ayushrastogi\\AppData\\Local\\Continuum\\Anaconda3\\lib\\site-packages\\pandas\\core\\generic.py:1201: UserWarning: The spaces in these column names will not be changed. In pandas versions < 0.14, spaces were converted to underscores.\n",
      "  chunksize=chunksize, dtype=dtype)\n"
     ]
    }
   ],
   "source": [
    "# Using pandas to export data from .csv to SQLite\n",
    "df = pandas.read_csv('C:/Users/ayushrastogi/OneDrive/ML DS Big Data/Meetup/Big Data Meetup/Wyoming Production Data/Production Table.csv')\n",
    "df.to_sql(\"ProductiontableWY\", connection, if_exists='append', index=False)"
   ]
  },
  {
   "cell_type": "code",
   "execution_count": 6,
   "metadata": {
    "collapsed": true
   },
   "outputs": [],
   "source": [
    "# Close the csv file, commit changes, and close the connection\n",
    "connection.commit()\n",
    "connection.close()"
   ]
  }
 ],
 "metadata": {
  "kernelspec": {
   "display_name": "Python 3",
   "language": "python",
   "name": "python3"
  },
  "language_info": {
   "codemirror_mode": {
    "name": "ipython",
    "version": 3
   },
   "file_extension": ".py",
   "mimetype": "text/x-python",
   "name": "python",
   "nbconvert_exporter": "python",
   "pygments_lexer": "ipython3",
   "version": "3.6.0"
  }
 },
 "nbformat": 4,
 "nbformat_minor": 2
}
